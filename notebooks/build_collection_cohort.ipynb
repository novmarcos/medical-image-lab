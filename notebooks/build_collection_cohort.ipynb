{
 "cells": [
  {
   "cell_type": "code",
   "execution_count": null,
   "id": "2af5130e-6db6-47db-911c-1c9494300c8d",
   "metadata": {},
   "outputs": [],
   "source": [
    "import os\n",
    "import numpy as np\n",
    "import pandas as pd\n",
    "from google.cloud import bigquery"
   ]
  },
  {
   "cell_type": "code",
   "execution_count": null,
   "id": "ce07bc42-1b4b-454d-91da-af000ea0e5e1",
   "metadata": {},
   "outputs": [],
   "source": [
    "PROJECT_ID = \"\"\n",
    "\n",
    "if not os.getenv(\"IS_TESTING\"):\n",
    "    # Get your Google Cloud project ID from gcloud\n",
    "    shell_output=!gcloud config list --format 'value(core.project)' 2>/dev/null\n",
    "    PROJECT_ID = shell_output[0]\n",
    "    print(\"Project ID: \", PROJECT_ID)"
   ]
  },
  {
   "cell_type": "code",
   "execution_count": null,
   "id": "d3f76aa6-b46d-4bbf-b946-c059ee533ea0",
   "metadata": {},
   "outputs": [],
   "source": [
    "collection_ID = \"lctsc\"\n",
    "bq_client = bigquery.Client(PROJECT_ID)\n",
    "\n",
    "selection_query = f\"\\\n",
    "  WITH studies AS (SELECT DISTINCT StudyInstanceUID FROM `bigquery-public-data.idc_current.dicom_all` \\\n",
    "                  WHERE collection_id =  \\\"{collection_ID}\\\"  \\\n",
    "                    LIMIT 10) \\\n",
    "  SELECT  \\\n",
    "    StudyInstanceUID, \\\n",
    "    SeriesInstanceUID, \\\n",
    "    SOPInstanceUID, \\\n",
    "    gcs_url \\\n",
    "  FROM \\\n",
    "    `bigquery-public-data.idc_current.dicom_all` INNER JOIN studies USING(StudyInstanceUID) \\\n",
    "    \"\n",
    "\n",
    "selection_result = bq_client.query(selection_query)\n",
    "selection_df = selection_result.result().to_dataframe()"
   ]
  },
  {
   "cell_type": "code",
   "execution_count": null,
   "id": "8b6c83a0-d32e-4ada-bf15-c50ba544489d",
   "metadata": {},
   "outputs": [],
   "source": [
    "pd.set_option('display.max_colwidth', None)\n",
    "\n",
    "selection_df"
   ]
  },
  {
   "cell_type": "code",
   "execution_count": null,
   "id": "1c9ad98b-ba95-4acb-a99d-d5cf42a66aae",
   "metadata": {},
   "outputs": [],
   "source": [
    "# save the list of files\n",
    "# save the list of GCS URLs into a file\n",
    "import os\n",
    "idc_download_folder = \"./IDC_downloads\"\n",
    "if not os.path.exists(idc_download_folder):\n",
    "  os.mkdir(idc_download_folder)\n",
    "\n",
    "selection_manifest = os.path.join(idc_download_folder, \"lctsc_manifest.txt\")\n",
    "selection_df[\"gcs_url\"].to_csv(selection_manifest, header=False, index=False)"
   ]
  },
  {
   "cell_type": "code",
   "execution_count": null,
   "id": "cd508679-f311-4015-a739-1c9b652c69f8",
   "metadata": {},
   "outputs": [],
   "source": [
    "# create a staging bucket\n",
    "bucket_name = \"gs://\"+PROJECT_ID+\"_lab1\"\n",
    "print(\"Bucket Name: \",bucket_name)\n",
    "stage_dir = bucket_name+\"/LCTSC\"\n",
    "print(\"Staging Directory: \",stage_dir)"
   ]
  },
  {
   "cell_type": "code",
   "execution_count": null,
   "id": "3b31379a-0b99-4c9b-b844-f95836f20283",
   "metadata": {},
   "outputs": [],
   "source": [
    "#create the bucket\n",
    "!gsutil mb $bucket_name"
   ]
  },
  {
   "cell_type": "code",
   "execution_count": null,
   "id": "d198b815-46ef-45fe-bf9e-a1215aaa4334",
   "metadata": {},
   "outputs": [],
   "source": [
    "# copy files to staging area\n",
    "# download is this simple!\n",
    "!cat ./IDC_downloads/lctsc_manifest.txt | gsutil -m cp -I $stage_dir 2> copy.log"
   ]
  },
  {
   "cell_type": "code",
   "execution_count": null,
   "id": "0c18039e-8994-47ef-95ec-ffcd6b25507d",
   "metadata": {},
   "outputs": [],
   "source": [
    "!gsutil ls $stage_dir | wc -l"
   ]
  }
 ],
 "metadata": {
  "environment": {
   "kernel": "python3",
   "name": "pytorch-gpu.1-12.m98",
   "type": "gcloud",
   "uri": "gcr.io/deeplearning-platform-release/pytorch-gpu.1-12:m98"
  },
  "kernelspec": {
   "display_name": "Python 3",
   "language": "python",
   "name": "python3"
  },
  "language_info": {
   "codemirror_mode": {
    "name": "ipython",
    "version": 3
   },
   "file_extension": ".py",
   "mimetype": "text/x-python",
   "name": "python",
   "nbconvert_exporter": "python",
   "pygments_lexer": "ipython3",
   "version": "3.7.12"
  }
 },
 "nbformat": 4,
 "nbformat_minor": 5
}
